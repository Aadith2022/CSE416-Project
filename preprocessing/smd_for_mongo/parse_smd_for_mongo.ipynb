{
 "cells": [
  {
   "cell_type": "code",
   "execution_count": 2,
   "metadata": {},
   "outputs": [],
   "source": [
    "import json\n",
    "from bson import ObjectId"
   ]
  },
  {
   "cell_type": "code",
   "execution_count": 4,
   "metadata": {},
   "outputs": [],
   "source": [
    "with open(\"../clean_data/smd_for_utah/smd_district_ensemble_test.json\", \"r\") as f:\n",
    "    data = json.load(f)"
   ]
  },
  {
   "cell_type": "code",
   "execution_count": 5,
   "metadata": {},
   "outputs": [
    {
     "name": "stdout",
     "output_type": "stream",
     "text": [
      "{'1': {'PP_TOTAL': 818155.0, 'G20PRERTRU': 205109, 'G20PREDBID': 143368, 'PP_WHTALN': 609819.0, 'PP_BAAALN': 13222.0, 'PP_ASNALN': 21988.0, 'PP_HISPLAT': 152915.0, 'PP_HPIALN': 14979.0, 'PP_NAMALN': 11450.0, 'PP_OTHALN': 75341.0}, '0': {'PP_TOTAL': 817556.0, 'G20PRERTRU': 216472, 'G20PREDBID': 142602, 'PP_WHTALN': 670182.0, 'PP_BAAALN': 9920.0, 'PP_ASNALN': 17750.0, 'PP_HISPLAT': 107647.0, 'PP_HPIALN': 3896.0, 'PP_NAMALN': 6814.0, 'PP_OTHALN': 45883.0}, '2': {'PP_TOTAL': 818575.0, 'G20PRERTRU': 225446, 'G20PREDBID': 149221, 'PP_WHTALN': 659292.0, 'PP_BAAALN': 6285.0, 'PP_ASNALN': 19168.0, 'PP_HISPLAT': 101211.0, 'PP_HPIALN': 6650.0, 'PP_NAMALN': 16235.0, 'PP_OTHALN': 41141.0}, '3': {'PP_TOTAL': 817330.0, 'G20PRERTRU': 218113, 'G20PREDBID': 125091, 'PP_WHTALN': 634120.0, 'PP_BAAALN': 10631.0, 'PP_ASNALN': 21532.0, 'PP_HISPLAT': 131139.0, 'PP_HPIALN': 11405.0, 'PP_NAMALN': 7145.0, 'PP_OTHALN': 57755.0}}\n"
     ]
    }
   ],
   "source": [
    "print(data)"
   ]
  },
  {
   "cell_type": "code",
   "execution_count": 6,
   "metadata": {},
   "outputs": [
    {
     "name": "stdout",
     "output_type": "stream",
     "text": [
      "[{'type': 'Feature', 'properties': {'district': 2, 'population': 818155.0, 'republican': 205109, 'democrat': 143368, 'white': 609819.0, 'black': 13222.0, 'asian': 21988.0, 'hispanic': 152915.0, 'pacific': 14979.0, 'indigenous': 11450.0, 'other': 75341.0, 'incumbent': 'Republican', 'representative': 'Celeste Maloy'}, 'geometry': ObjectId('67353fd79c10ac6e66e07ac4')}, {'type': 'Feature', 'properties': {'district': 1, 'population': 817556.0, 'republican': 216472, 'democrat': 142602, 'white': 670182.0, 'black': 9920.0, 'asian': 17750.0, 'hispanic': 107647.0, 'pacific': 3896.0, 'indigenous': 6814.0, 'other': 45883.0, 'incumbent': 'Republican', 'representative': 'Blake Moore'}, 'geometry': ObjectId('67353fd79c10ac6e66e07ac4')}, {'type': 'Feature', 'properties': {'district': 3, 'population': 818575.0, 'republican': 225446, 'democrat': 149221, 'white': 659292.0, 'black': 6285.0, 'asian': 19168.0, 'hispanic': 101211.0, 'pacific': 6650.0, 'indigenous': 16235.0, 'other': 41141.0, 'incumbent': 'Republican', 'representative': 'Mike Kennedy'}, 'geometry': ObjectId('67353fd79c10ac6e66e07ac4')}, {'type': 'Feature', 'properties': {'district': 4, 'population': 817330.0, 'republican': 218113, 'democrat': 125091, 'white': 634120.0, 'black': 10631.0, 'asian': 21532.0, 'hispanic': 131139.0, 'pacific': 11405.0, 'indigenous': 7145.0, 'other': 57755.0, 'incumbent': 'Republican', 'representative': 'Burgess Owens'}, 'geometry': ObjectId('67353fd79c10ac6e66e07ac4')}]\n"
     ]
    }
   ],
   "source": [
    "# Transform JSON\n",
    "result = []\n",
    "republicanCandidates = {\n",
    "    \"1\": {\n",
    "        \"name\": \"Blake Moore\"\n",
    "    },\n",
    "    \"2\": {\n",
    "        \"name\": \"Celeste Maloy\"\n",
    "    },\n",
    "    \"3\": {\n",
    "        \"name\": \"Mike Kennedy\"\n",
    "    },\n",
    "    \"4\": {\n",
    "        \"name\": \"Burgess Owens\"\n",
    "    }\n",
    "}\n",
    "democraticCandidates = {\n",
    "    \"1\": {\n",
    "        \"name\": \"Bill Campbell\"\n",
    "    },\n",
    "    \"2\": {\n",
    "        \"name\": \"Nathaniel Woodward\"\n",
    "    },\n",
    "    \"3\": {\n",
    "        \"name\": \"Glenn J. Wright\"\n",
    "    },\n",
    "    \"4\": {\n",
    "        \"name\": \"Katrina Fallick-Wang\"\n",
    "    }\n",
    "}\n",
    "for key, value in data.items():\n",
    "    district_number = int(key) + 1\n",
    "    if value['G20PRERTRU'] > value['G20PREDBID']:\n",
    "        incumbent = \"Republican\"\n",
    "        representative = republicanCandidates[str(district_number)]['name']\n",
    "    else:\n",
    "        incumbent = \"Democrat\"\n",
    "        representative = democraticCandidates[str(district_number)]['name']\n",
    "    result.append({\"type\": \"Feature\", \"properties\": {\"district\": district_number, \"population\": value['PP_TOTAL'], \"republican\": value['G20PRERTRU'], \"democrat\": value['G20PREDBID'], \"white\": value['PP_WHTALN'], \"black\": value['PP_BAAALN'], \"asian\": value['PP_ASNALN'], \"hispanic\": value['PP_HISPLAT'], \"pacific\": value['PP_HPIALN'], \"indigenous\": value['PP_NAMALN'], \"other\": value['PP_OTHALN'], \"incumbent\": incumbent, \"representative\": representative}, \"geometry\": ObjectId(\"67353fd79c10ac6e66e07ac4\")})\n",
    "print(result)"
   ]
  },
  {
   "cell_type": "code",
   "execution_count": 7,
   "metadata": {},
   "outputs": [],
   "source": [
    "featureCollection = {\n",
    "    \"type\": \"FeatureCollection\",\n",
    "    \"name\": \"utah\",\n",
    "    \"crs\": { \"type\": \"name\", \"properties\": { \"name\": \"urn:ogc:def:crs:OGC:1.3:CRS84\" } },\n",
    "    \"features\": result,\n",
    "    \"center\": [39.52098, -111.093731],\n",
    "    \"minZoom\": 3,\n",
    "    \"zoom\": 7\n",
    "}"
   ]
  },
  {
   "cell_type": "code",
   "execution_count": 8,
   "metadata": {},
   "outputs": [
    {
     "name": "stdout",
     "output_type": "stream",
     "text": [
      "{'type': 'FeatureCollection', 'name': 'utah', 'crs': {'type': 'name', 'properties': {'name': 'urn:ogc:def:crs:OGC:1.3:CRS84'}}, 'features': [{'type': 'Feature', 'properties': {'district': 2, 'population': 818155.0, 'republican': 205109, 'democrat': 143368, 'white': 609819.0, 'black': 13222.0, 'asian': 21988.0, 'hispanic': 152915.0, 'pacific': 14979.0, 'indigenous': 11450.0, 'other': 75341.0, 'incumbent': 'Republican', 'representative': 'Celeste Maloy'}, 'geometry': ObjectId('67353fd79c10ac6e66e07ac4')}, {'type': 'Feature', 'properties': {'district': 1, 'population': 817556.0, 'republican': 216472, 'democrat': 142602, 'white': 670182.0, 'black': 9920.0, 'asian': 17750.0, 'hispanic': 107647.0, 'pacific': 3896.0, 'indigenous': 6814.0, 'other': 45883.0, 'incumbent': 'Republican', 'representative': 'Blake Moore'}, 'geometry': ObjectId('67353fd79c10ac6e66e07ac4')}, {'type': 'Feature', 'properties': {'district': 3, 'population': 818575.0, 'republican': 225446, 'democrat': 149221, 'white': 659292.0, 'black': 6285.0, 'asian': 19168.0, 'hispanic': 101211.0, 'pacific': 6650.0, 'indigenous': 16235.0, 'other': 41141.0, 'incumbent': 'Republican', 'representative': 'Mike Kennedy'}, 'geometry': ObjectId('67353fd79c10ac6e66e07ac4')}, {'type': 'Feature', 'properties': {'district': 4, 'population': 817330.0, 'republican': 218113, 'democrat': 125091, 'white': 634120.0, 'black': 10631.0, 'asian': 21532.0, 'hispanic': 131139.0, 'pacific': 11405.0, 'indigenous': 7145.0, 'other': 57755.0, 'incumbent': 'Republican', 'representative': 'Burgess Owens'}, 'geometry': ObjectId('67353fd79c10ac6e66e07ac4')}], 'center': [39.52098, -111.093731], 'minZoom': 3, 'zoom': 7}\n"
     ]
    }
   ],
   "source": [
    "print(featureCollection)"
   ]
  },
  {
   "cell_type": "code",
   "execution_count": 23,
   "metadata": {},
   "outputs": [],
   "source": [
    "# Write to a JSON file\n",
    "with open('featureCollection.json', 'w') as f:\n",
    "    json.dump(featureCollection, f, indent=4)"
   ]
  },
  {
   "cell_type": "code",
   "execution_count": 10,
   "metadata": {},
   "outputs": [],
   "source": [
    "# Helper function to convert ObjectId to string\n",
    "def convert_objectid(data):\n",
    "    if isinstance(data, dict):\n",
    "        return {k: convert_objectid(v) for k, v in data.items()}\n",
    "    elif isinstance(data, list):\n",
    "        return [convert_objectid(i) for i in data]\n",
    "    elif isinstance(data, ObjectId):\n",
    "        return {\"$oid\": str(data)}  # MongoDB's extended JSON format\n",
    "    else:\n",
    "        return data\n",
    "\n",
    "# Convert and export the data\n",
    "converted_data = convert_objectid(featureCollection)\n",
    "with open(\"data.json\", \"w\") as f:\n",
    "    json.dump(converted_data, f, indent=4)"
   ]
  },
  {
   "cell_type": "markdown",
   "metadata": {},
   "source": [
    "### Converting All SMD Ensemble Data to Districts for Collections"
   ]
  }
 ],
 "metadata": {
  "kernelspec": {
   "display_name": "GeoPandasExperiment",
   "language": "python",
   "name": "python3"
  },
  "language_info": {
   "codemirror_mode": {
    "name": "ipython",
    "version": 3
   },
   "file_extension": ".py",
   "mimetype": "text/x-python",
   "name": "python",
   "nbconvert_exporter": "python",
   "pygments_lexer": "ipython3",
   "version": "3.12.5"
  }
 },
 "nbformat": 4,
 "nbformat_minor": 2
}
