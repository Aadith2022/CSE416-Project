{
 "cells": [
  {
   "cell_type": "code",
   "execution_count": 1,
   "metadata": {},
   "outputs": [],
   "source": [
    "import geopandas as gpd"
   ]
  },
  {
   "cell_type": "markdown",
   "metadata": {},
   "source": [
    "## Arizona Precinct Cleaning of Data"
   ]
  },
  {
   "cell_type": "code",
   "execution_count": 2,
   "metadata": {},
   "outputs": [
    {
     "name": "stdout",
     "output_type": "stream",
     "text": [
      "             UNIQUE_ID COUNTYFP  PCTNUM        PRECINCTNA CDE_COUNTY  \\\n",
      "0            02 ALPINE      001  AP0002            ALPINE         AP   \n",
      "1  03 CANYON DE CHELLY      001  AP0003  CANYON DE CHELLY         AP   \n",
      "2            05 CHINLE      001  AP0005            CHINLE         AP   \n",
      "3            09 CONCHO      001  AP0009            CONCHO         AP   \n",
      "4        11 COTTONWOOD      001  AP0011        COTTONWOOD         AP   \n",
      "\n",
      "  COUNTY_NAM CON_DIST SLDL_DIST SLDU_DIST  G20PREDBID  ...  GSL30DMEZ  \\\n",
      "0     Apache       01        07        07        94.0  ...        0.0   \n",
      "1     Apache       01        07        07      1982.0  ...        0.0   \n",
      "2     Apache       01        07        07       989.0  ...        0.0   \n",
      "3     Apache       01        07        07       333.0  ...        0.0   \n",
      "4     Apache       01        07        07       748.0  ...        0.0   \n",
      "\n",
      "   GSL30DTER  CVAP_TOT20  CVAP_WHT20  CVAP_BLK20  CVAP_HSP20  CVAP_ASN20  \\\n",
      "0        0.0      498.06      416.21        0.00       65.99        0.00   \n",
      "1        0.0     3158.16       26.06        0.42       13.54        0.00   \n",
      "2        0.0     1951.48      133.91       34.00        6.47        0.00   \n",
      "3        0.0     2160.67     1798.04       84.67      152.44       48.75   \n",
      "4        0.0     1291.81        4.00        0.00        0.00        0.00   \n",
      "\n",
      "   CVAP_AIA20  CVAP_NHP20                                           geometry  \n",
      "0        9.12         0.0  MULTIPOLYGON (((-109.49567 33.6528, -109.49576...  \n",
      "1     3123.43         0.0  MULTIPOLYGON (((-109.71666 36.26151, -109.7165...  \n",
      "2     1749.49         0.0  MULTIPOLYGON (((-109.81183 36.27512, -109.8081...  \n",
      "3       19.89         0.0  MULTIPOLYGON (((-109.53982 34.44871, -109.5392...  \n",
      "4     1286.66         0.0  MULTIPOLYGON (((-109.81768 36.1476, -109.81822...  \n",
      "\n",
      "[5 rows x 201 columns]\n",
      "EPSG:4326\n"
     ]
    }
   ],
   "source": [
    "file_path = \"./clean_data/arizona_data/ArizonaAggPrecincts.geojson\"\n",
    "\n",
    "gdf = gpd.read_file(file_path)\n",
    "\n",
    "print(gdf.head())\n",
    "\n",
    "print(gdf.crs)"
   ]
  },
  {
   "cell_type": "code",
   "execution_count": null,
   "metadata": {},
   "outputs": [],
   "source": [
    "column_name_mappings = {\n",
    "    \"UNIQUE_ID\": \"precinct\",\n",
    "    \"G20PRERTRU\": \"republican\",\n",
    "    \"G20PREDBID\": \"democrat\",\n",
    "    \"CVAP_TOT20\": \"population\",\n",
    "    \"CVAP_WHT20\": \"white\",\n",
    "    \"CVAP_BLK20\": \"black\",\n",
    "    \"CVAP_HSP20\": \"hispanic\",\n",
    "    \"CVAP_ASN20\": \"asian\",\n",
    "    \"CVAP_NHP20\": \"pacific\",\n",
    "    \"CVAP_AIA20\": \"native\",\n",
    "    \"other\": \"other\"\n",
    "}\n",
    "\"properties\": {\n",
    "                \"precinct\": \"1104\",\n",
    "                \"population\": 5967,\n",
    "                \"republican\": 221,\n",
    "                \"democrat\": 1173,\n",
    "                \"white\": 123,\n",
    "                \"black\": 1098,\n",
    "                \"hispanic\": 4746,\n",
    "                \"asian\": 0,\n",
    "                \"pacific\": 0,\n",
    "                \"other\": 0,\n",
    "                \"native\": 0\n",
    "            },"
   ]
  }
 ],
 "metadata": {
  "kernelspec": {
   "display_name": "GeoPandasExperiment",
   "language": "python",
   "name": "python3"
  },
  "language_info": {
   "codemirror_mode": {
    "name": "ipython",
    "version": 3
   },
   "file_extension": ".py",
   "mimetype": "text/x-python",
   "name": "python",
   "nbconvert_exporter": "python",
   "pygments_lexer": "ipython3",
   "version": "3.12.5"
  }
 },
 "nbformat": 4,
 "nbformat_minor": 2
}
