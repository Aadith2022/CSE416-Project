{
 "cells": [
  {
   "cell_type": "code",
   "execution_count": 44,
   "metadata": {},
   "outputs": [],
   "source": [
    "import numpy as np\n",
    "import json"
   ]
  },
  {
   "cell_type": "code",
   "execution_count": 48,
   "metadata": {},
   "outputs": [],
   "source": [
    "min_pct = 0.15\n",
    "maximum_value = 1\n",
    "list_of_bins = []\n",
    "for i in range(10):\n",
    "    min_pct = min_pct - 0.01\n",
    "    q1 = min_pct + 0.01\n",
    "    median = q1 + 0.01\n",
    "    q3 = median + 0.01\n",
    "    max_pct = min(maximum_value, q3 + 0.01)\n",
    "    list_of_bins.append({\n",
    "        \"min\": min_pct,\n",
    "        \"q1\": q1,\n",
    "        \"median\": median,\n",
    "        \"q3\": q3,\n",
    "        \"max\": max_pct,\n",
    "        \"range\": [i * 10, i * 10 + 10]\n",
    "    })\n",
    "    min_pct = max_pct + max_pct * 0.0001 + 0.01"
   ]
  },
  {
   "cell_type": "code",
   "execution_count": 49,
   "metadata": {},
   "outputs": [
    {
     "name": "stdout",
     "output_type": "stream",
     "text": [
      "{'min': 0.5003060984201629, 'q1': 0.510306098420163, 'median': 0.520306098420163, 'q3': 0.530306098420163, 'max': 0.540306098420163, 'range': [90, 100]}\n"
     ]
    }
   ],
   "source": [
    "print(list_of_bins[9])"
   ]
  },
  {
   "cell_type": "code",
   "execution_count": 50,
   "metadata": {},
   "outputs": [
    {
     "name": "stdout",
     "output_type": "stream",
     "text": [
      "[\n",
      "    {\n",
      "        \"min\": 0.13999999999999999,\n",
      "        \"q1\": 0.15,\n",
      "        \"median\": 0.16,\n",
      "        \"q3\": 0.17,\n",
      "        \"max\": 0.18000000000000002,\n",
      "        \"range\": [\n",
      "            0,\n",
      "            10\n",
      "        ]\n",
      "    },\n",
      "    {\n",
      "        \"min\": 0.180018,\n",
      "        \"q1\": 0.19001800000000002,\n",
      "        \"median\": 0.20001800000000003,\n",
      "        \"q3\": 0.21001800000000004,\n",
      "        \"max\": 0.22001800000000005,\n",
      "        \"range\": [\n",
      "            10,\n",
      "            20\n",
      "        ]\n",
      "    },\n",
      "    {\n",
      "        \"min\": 0.22004000180000005,\n",
      "        \"q1\": 0.23004000180000006,\n",
      "        \"median\": 0.24004000180000007,\n",
      "        \"q3\": 0.2500400018000001,\n",
      "        \"max\": 0.2600400018000001,\n",
      "        \"range\": [\n",
      "            20,\n",
      "            30\n",
      "        ]\n",
      "    },\n",
      "    {\n",
      "        \"min\": 0.2600660058001801,\n",
      "        \"q1\": 0.2700660058001801,\n",
      "        \"median\": 0.2800660058001801,\n",
      "        \"q3\": 0.2900660058001801,\n",
      "        \"max\": 0.3000660058001801,\n",
      "        \"range\": [\n",
      "            30,\n",
      "            40\n",
      "        ]\n",
      "    },\n",
      "    {\n",
      "        \"min\": 0.3000960124007601,\n",
      "        \"q1\": 0.3100960124007601,\n",
      "        \"median\": 0.32009601240076013,\n",
      "        \"q3\": 0.33009601240076014,\n",
      "        \"max\": 0.34009601240076015,\n",
      "        \"range\": [\n",
      "            40,\n",
      "            50\n",
      "        ]\n",
      "    },\n",
      "    {\n",
      "        \"min\": 0.3401300220020002,\n",
      "        \"q1\": 0.3501300220020002,\n",
      "        \"median\": 0.3601300220020002,\n",
      "        \"q3\": 0.37013002200200024,\n",
      "        \"max\": 0.38013002200200025,\n",
      "        \"range\": [\n",
      "            50,\n",
      "            60\n",
      "        ]\n",
      "    },\n",
      "    {\n",
      "        \"min\": 0.38016803500420043,\n",
      "        \"q1\": 0.39016803500420044,\n",
      "        \"median\": 0.40016803500420045,\n",
      "        \"q3\": 0.41016803500420046,\n",
      "        \"max\": 0.42016803500420047,\n",
      "        \"range\": [\n",
      "            60,\n",
      "            70\n",
      "        ]\n",
      "    },\n",
      "    {\n",
      "        \"min\": 0.4202100518077009,\n",
      "        \"q1\": 0.4302100518077009,\n",
      "        \"median\": 0.4402100518077009,\n",
      "        \"q3\": 0.4502100518077009,\n",
      "        \"max\": 0.4602100518077009,\n",
      "        \"range\": [\n",
      "            70,\n",
      "            80\n",
      "        ]\n",
      "    },\n",
      "    {\n",
      "        \"min\": 0.46025607281288167,\n",
      "        \"q1\": 0.4702560728128817,\n",
      "        \"median\": 0.4802560728128817,\n",
      "        \"q3\": 0.4902560728128817,\n",
      "        \"max\": 0.5002560728128816,\n",
      "        \"range\": [\n",
      "            80,\n",
      "            90\n",
      "        ]\n",
      "    },\n",
      "    {\n",
      "        \"min\": 0.5003060984201629,\n",
      "        \"q1\": 0.510306098420163,\n",
      "        \"median\": 0.520306098420163,\n",
      "        \"q3\": 0.530306098420163,\n",
      "        \"max\": 0.540306098420163,\n",
      "        \"range\": [\n",
      "            90,\n",
      "            100\n",
      "        ]\n",
      "    }\n",
      "]\n"
     ]
    }
   ],
   "source": [
    "# Convert to JSON\n",
    "json_data = json.dumps(list_of_bins, indent=4)\n",
    "\n",
    "# Print the JSON string\n",
    "print(json_data)"
   ]
  },
  {
   "cell_type": "code",
   "execution_count": null,
   "metadata": {},
   "outputs": [],
   "source": []
  }
 ],
 "metadata": {
  "kernelspec": {
   "display_name": "Python 3",
   "language": "python",
   "name": "python3"
  },
  "language_info": {
   "codemirror_mode": {
    "name": "ipython",
    "version": 3
   },
   "file_extension": ".py",
   "mimetype": "text/x-python",
   "name": "python",
   "nbconvert_exporter": "python",
   "pygments_lexer": "ipython3",
   "version": "3.12.6"
  }
 },
 "nbformat": 4,
 "nbformat_minor": 2
}
